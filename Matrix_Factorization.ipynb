{
 "cells": [
  {
   "cell_type": "code",
   "execution_count": 1,
   "metadata": {
    "colab": {},
    "colab_type": "code",
    "executionInfo": {
     "elapsed": 902,
     "status": "ok",
     "timestamp": 1592977748914,
     "user": {
      "displayName": "이명학",
      "photoUrl": "",
      "userId": "11987921594376328543"
     },
     "user_tz": -540
    },
    "id": "xJtG7oYzc75_"
   },
   "outputs": [],
   "source": [
    "import numpy as np\n",
    "import pandas as pd\n",
    "import os\n",
    "\n",
    "import warnings\n",
    "warnings.filterwarnings(action='ignore')\n",
    "from scipy.sparse.linalg import svds\n",
    "from scipy import sparse\n",
    "from sklearn.decomposition import NMF\n",
    "from sklearn.metrics.pairwise import cosine_similarity\n",
    "\n",
    "from recsystools import *"
   ]
  },
  {
   "cell_type": "markdown",
   "metadata": {},
   "source": [
    "# `Import Data`"
   ]
  },
  {
   "cell_type": "code",
   "execution_count": 6,
   "metadata": {
    "colab": {
     "base_uri": "https://localhost:8080/",
     "height": 52
    },
    "colab_type": "code",
    "executionInfo": {
     "elapsed": 227379,
     "status": "ok",
     "timestamp": 1592902991007,
     "user": {
      "displayName": "이명학",
      "photoUrl": "",
      "userId": "11987921594376328543"
     },
     "user_tz": -540
    },
    "id": "OnS_GZMeMq8k",
    "outputId": "71cb8ac9-3aab-4726-f1ea-856490e8c980"
   },
   "outputs": [],
   "source": [
    "user_purch_list=pd.read_csv(\"ecommerce_data.csv\", encoding = 'ISO-8859-1')\n",
    "\n",
    "user_purch_list = user_purch_list.loc[user_purch_list['Quantity'] > 0]\n",
    "user_purch_list = user_purch_list.loc[user_purch_list['UnitPrice'] > 0]\n",
    "user_purch_list = user_purch_list.dropna(subset=['CustomerID'])\n",
    "user_purch_list.CustomerID=user_purch_list.CustomerID.astype(int)\n",
    "\n",
    "# 필터링을 마친 새로운 raw data와, 유저의 활동 로그, 아이템의 판매 기록을 각각 저장\n",
    "raw_data, user_activity, item_popularity = filter_triplets(user_purch_list)"
   ]
  },
  {
   "cell_type": "code",
   "execution_count": 7,
   "metadata": {
    "colab": {
     "base_uri": "https://localhost:8080/",
     "height": 52
    },
    "colab_type": "code",
    "executionInfo": {
     "elapsed": 227379,
     "status": "ok",
     "timestamp": 1592902991007,
     "user": {
      "displayName": "이명학",
      "photoUrl": "",
      "userId": "11987921594376328543"
     },
     "user_tz": -540
    },
    "id": "OnS_GZMeMq8k",
    "outputId": "71cb8ac9-3aab-4726-f1ea-856490e8c980"
   },
   "outputs": [],
   "source": [
    "# 새로운 raw data로 interaction matrix 계산\n",
    "pivot=pd.pivot_table(raw_data, values=\"InvoiceNo\",index=[\"CustomerID\"],columns=[\"Description\"],aggfunc=\"count\",fill_value=0)"
   ]
  },
  {
   "cell_type": "code",
   "execution_count": 8,
   "metadata": {
    "colab": {
     "base_uri": "https://localhost:8080/",
     "height": 52
    },
    "colab_type": "code",
    "executionInfo": {
     "elapsed": 227379,
     "status": "ok",
     "timestamp": 1592902991007,
     "user": {
      "displayName": "이명학",
      "photoUrl": "",
      "userId": "11987921594376328543"
     },
     "user_tz": -540
    },
    "id": "OnS_GZMeMq8k",
    "outputId": "71cb8ac9-3aab-4726-f1ea-856490e8c980"
   },
   "outputs": [],
   "source": [
    "# sparsity는?\n",
    "sparsity = 1-( 1. * raw_data.shape[0] / (user_activity.shape[0] * item_popularity.shape[0]))"
   ]
  },
  {
   "cell_type": "code",
   "execution_count": 9,
   "metadata": {
    "colab": {
     "base_uri": "https://localhost:8080/",
     "height": 52
    },
    "colab_type": "code",
    "executionInfo": {
     "elapsed": 227379,
     "status": "ok",
     "timestamp": 1592902991007,
     "user": {
      "displayName": "이명학",
      "photoUrl": "",
      "userId": "11987921594376328543"
     },
     "user_tz": -540
    },
    "id": "OnS_GZMeMq8k",
    "outputId": "71cb8ac9-3aab-4726-f1ea-856490e8c980"
   },
   "outputs": [
    {
     "name": "stdout",
     "output_type": "stream",
     "text": [
      "After filtering, there are 396121 buying events from 4109 users and 3301 items (sparsity: 97.080%)\n"
     ]
    }
   ],
   "source": [
    "print(\"After filtering, there are %d buying events from %d users and %d items (sparsity: %.3f%%)\" % \n",
    "      (raw_data.shape[0], user_activity.shape[0], item_popularity.shape[0], sparsity * 100))"
   ]
  },
  {
   "cell_type": "markdown",
   "metadata": {},
   "source": [
    "# `Data Preprocessing`"
   ]
  },
  {
   "cell_type": "code",
   "execution_count": 43,
   "metadata": {
    "colab": {
     "base_uri": "https://localhost:8080/",
     "height": 52
    },
    "colab_type": "code",
    "executionInfo": {
     "elapsed": 227379,
     "status": "ok",
     "timestamp": 1592902991007,
     "user": {
      "displayName": "이명학",
      "photoUrl": "",
      "userId": "11987921594376328543"
     },
     "user_tz": -540
    },
    "id": "OnS_GZMeMq8k",
    "outputId": "71cb8ac9-3aab-4726-f1ea-856490e8c980"
   },
   "outputs": [],
   "source": [
    "# 유니크한 유저 아이디를 저장\n",
    "unique_uid = user_activity.index\n",
    "\n",
    "# 균일하게 섞어주기 위해 shuffle\n",
    "np.random.seed(34)\n",
    "idx_perm = np.random.permutation(unique_uid.size)\n",
    "unique_uid = unique_uid[idx_perm]"
   ]
  },
  {
   "cell_type": "code",
   "execution_count": 44,
   "metadata": {
    "colab": {
     "base_uri": "https://localhost:8080/",
     "height": 52
    },
    "colab_type": "code",
    "executionInfo": {
     "elapsed": 227379,
     "status": "ok",
     "timestamp": 1592902991007,
     "user": {
      "displayName": "이명학",
      "photoUrl": "",
      "userId": "11987921594376328543"
     },
     "user_tz": -540
    },
    "id": "OnS_GZMeMq8k",
    "outputId": "71cb8ac9-3aab-4726-f1ea-856490e8c980"
   },
   "outputs": [],
   "source": [
    "# 유저의 수를 나누어, train/test를 split함\n",
    "# 500명의 유저를 hold, 추천 모델 성능 test 용으로 사용\n",
    "\n",
    "n_users = unique_uid.size\n",
    "n_heldout_users = 500\n",
    "\n",
    "tr_users = unique_uid[:(n_users - n_heldout_users)]\n",
    "te_users = unique_uid[(n_users - n_heldout_users):]\n",
    "\n",
    "tr_df=raw_data[raw_data.CustomerID.isin(tr_users)]\n",
    "te_df=raw_data[raw_data.CustomerID.isin(te_users)]"
   ]
  },
  {
   "cell_type": "code",
   "execution_count": 45,
   "metadata": {
    "colab": {
     "base_uri": "https://localhost:8080/",
     "height": 52
    },
    "colab_type": "code",
    "executionInfo": {
     "elapsed": 227379,
     "status": "ok",
     "timestamp": 1592902991007,
     "user": {
      "displayName": "이명학",
      "photoUrl": "",
      "userId": "11987921594376328543"
     },
     "user_tz": -540
    },
    "id": "OnS_GZMeMq8k",
    "outputId": "71cb8ac9-3aab-4726-f1ea-856490e8c980"
   },
   "outputs": [
    {
     "name": "stdout",
     "output_type": "stream",
     "text": [
      "0 users sampled\n"
     ]
    }
   ],
   "source": [
    "te_tr,te_te=split_train_test_proportion(te_df)\n",
    "holdout_user_list=te_te.CustomerID.unique()\n",
    "# 전체 train 데이터는 이만큼\n",
    "train_data=pd.concat([tr_df,te_tr])\n",
    "train_pivot=pd.pivot_table(train_data, values=\"InvoiceNo\",index=[\"CustomerID\"],columns=[\"Description\"],aggfunc=\"count\",fill_value=0)"
   ]
  },
  {
   "cell_type": "code",
   "execution_count": 46,
   "metadata": {
    "colab": {},
    "colab_type": "code",
    "executionInfo": {
     "elapsed": 227251,
     "status": "ok",
     "timestamp": 1592902991008,
     "user": {
      "displayName": "이명학",
      "photoUrl": "",
      "userId": "11987921594376328543"
     },
     "user_tz": -540
    },
    "id": "iRQIIVUbM7Yq"
   },
   "outputs": [],
   "source": [
    "matrix=train_pivot.values\n",
    "user_ratings_mean=np.mean(matrix,axis=1)\n",
    "ui_matrix=matrix-user_ratings_mean.reshape(-1,1)"
   ]
  },
  {
   "cell_type": "markdown",
   "metadata": {},
   "source": [
    "# `SVD`"
   ]
  },
  {
   "cell_type": "code",
   "execution_count": 71,
   "metadata": {
    "colab": {
     "base_uri": "https://localhost:8080/",
     "height": 175
    },
    "colab_type": "code",
    "executionInfo": {
     "elapsed": 9052,
     "status": "ok",
     "timestamp": 1592903125241,
     "user": {
      "displayName": "이명학",
      "photoUrl": "",
      "userId": "11987921594376328543"
     },
     "user_tz": -540
    },
    "id": "meRthIUhbCW4",
    "outputId": "5beba14c-b63f-4ce2-9372-c282285cce0c"
   },
   "outputs": [],
   "source": [
    "U, sig , Vt =svds(ui_matrix,k=200)\n",
    "\n",
    "sig=np.diag(sig)\n",
    "svd_user_predicted_ratings=np.dot(np.dot(U,sig),Vt) + user_ratings_mean.reshape(-1,1)"
   ]
  },
  {
   "cell_type": "code",
   "execution_count": 72,
   "metadata": {
    "colab": {
     "base_uri": "https://localhost:8080/",
     "height": 175
    },
    "colab_type": "code",
    "executionInfo": {
     "elapsed": 9052,
     "status": "ok",
     "timestamp": 1592903125241,
     "user": {
      "displayName": "이명학",
      "photoUrl": "",
      "userId": "11987921594376328543"
     },
     "user_tz": -540
    },
    "id": "meRthIUhbCW4",
    "outputId": "5beba14c-b63f-4ce2-9372-c282285cce0c"
   },
   "outputs": [],
   "source": [
    "df_svd_preds=pd.DataFrame(svd_user_predicted_ratings, columns=train_pivot.columns).T\n",
    "df_svd_preds.columns=train_pivot.index"
   ]
  },
  {
   "cell_type": "code",
   "execution_count": 73,
   "metadata": {
    "colab": {
     "base_uri": "https://localhost:8080/",
     "height": 175
    },
    "colab_type": "code",
    "executionInfo": {
     "elapsed": 9052,
     "status": "ok",
     "timestamp": 1592903125241,
     "user": {
      "displayName": "이명학",
      "photoUrl": "",
      "userId": "11987921594376328543"
     },
     "user_tz": -540
    },
    "id": "meRthIUhbCW4",
    "outputId": "5beba14c-b63f-4ce2-9372-c282285cce0c"
   },
   "outputs": [],
   "source": [
    "df_svd_preds_exclude_purchase=df_svd_preds-(1e+10*(train_pivot.T))"
   ]
  },
  {
   "cell_type": "code",
   "execution_count": 74,
   "metadata": {
    "colab": {
     "base_uri": "https://localhost:8080/",
     "height": 175
    },
    "colab_type": "code",
    "executionInfo": {
     "elapsed": 9052,
     "status": "ok",
     "timestamp": 1592903125241,
     "user": {
      "displayName": "이명학",
      "photoUrl": "",
      "userId": "11987921594376328543"
     },
     "user_tz": -540
    },
    "id": "meRthIUhbCW4",
    "outputId": "5beba14c-b63f-4ce2-9372-c282285cce0c"
   },
   "outputs": [],
   "source": [
    "pred_svd=np.array(df_svd_preds_exclude_purchase.T[df_svd_preds_exclude_purchase.columns.isin(holdout_user_list)])"
   ]
  },
  {
   "cell_type": "code",
   "execution_count": 75,
   "metadata": {
    "colab": {
     "base_uri": "https://localhost:8080/",
     "height": 175
    },
    "colab_type": "code",
    "executionInfo": {
     "elapsed": 9052,
     "status": "ok",
     "timestamp": 1592903125241,
     "user": {
      "displayName": "이명학",
      "photoUrl": "",
      "userId": "11987921594376328543"
     },
     "user_tz": -540
    },
    "id": "meRthIUhbCW4",
    "outputId": "5beba14c-b63f-4ce2-9372-c282285cce0c"
   },
   "outputs": [],
   "source": [
    "holdout_svd=scipy.sparse.csr_matrix(pivot[pivot.T.columns.isin(holdout_user_list)].values)"
   ]
  },
  {
   "cell_type": "code",
   "execution_count": 76,
   "metadata": {
    "colab": {
     "base_uri": "https://localhost:8080/",
     "height": 175
    },
    "colab_type": "code",
    "executionInfo": {
     "elapsed": 9052,
     "status": "ok",
     "timestamp": 1592903125241,
     "user": {
      "displayName": "이명학",
      "photoUrl": "",
      "userId": "11987921594376328543"
     },
     "user_tz": -540
    },
    "id": "meRthIUhbCW4",
    "outputId": "5beba14c-b63f-4ce2-9372-c282285cce0c"
   },
   "outputs": [
    {
     "name": "stdout",
     "output_type": "stream",
     "text": [
      "NDCG at 10, k = 200:  0.0907538047804679\n",
      "Recall at 10, k = 200 : 0.07968809523809524\n"
     ]
    }
   ],
   "source": [
    "# k=200\n",
    "print(f\"NDCG at 10, k = 200: \" , NDCG_binary_at_k_batch(pred_svd,holdout_svd,10).mean())\n",
    "print(f\"Recall at 10, k = 200 :\",Recall_at_k_batch(pred_svd,holdout_svd,10).mean())"
   ]
  },
  {
   "cell_type": "markdown",
   "metadata": {},
   "source": [
    "# `NMF`"
   ]
  },
  {
   "cell_type": "code",
   "execution_count": 77,
   "metadata": {
    "colab": {},
    "colab_type": "code",
    "id": "enyMMy5Vt_um"
   },
   "outputs": [],
   "source": [
    "model = NMF(n_components=50, init='random', random_state=0)\n",
    "W = model.fit_transform(matrix)\n",
    "H = model.components_"
   ]
  },
  {
   "cell_type": "code",
   "execution_count": 78,
   "metadata": {
    "colab": {},
    "colab_type": "code",
    "id": "DE9XN94Ct_un"
   },
   "outputs": [],
   "source": [
    "reconstructed = pd.DataFrame(np.round(np.dot(W,H),2), columns=train_pivot.columns,index=train_pivot.index)"
   ]
  },
  {
   "cell_type": "code",
   "execution_count": 79,
   "metadata": {
    "colab": {},
    "colab_type": "code",
    "id": "6w0f8IcQt_uq"
   },
   "outputs": [],
   "source": [
    "df_nmf_preds_exclude_purchase=reconstructed.T-1e+10*(train_pivot.T)"
   ]
  },
  {
   "cell_type": "code",
   "execution_count": 80,
   "metadata": {
    "colab": {},
    "colab_type": "code",
    "id": "7rg7cnvQt_ur"
   },
   "outputs": [],
   "source": [
    "pred_nmf=np.array(df_nmf_preds_exclude_purchase.T[df_nmf_preds_exclude_purchase.columns.isin(holdout_user_list)])"
   ]
  },
  {
   "cell_type": "code",
   "execution_count": 81,
   "metadata": {
    "colab": {},
    "colab_type": "code",
    "id": "o9mHh15Qt_us"
   },
   "outputs": [],
   "source": [
    "holdout_nmf=scipy.sparse.csr_matrix(pivot[pivot.T.columns.isin(holdout_user_list)].values)"
   ]
  },
  {
   "cell_type": "code",
   "execution_count": 82,
   "metadata": {
    "colab": {
     "base_uri": "https://localhost:8080/"
    },
    "colab_type": "code",
    "executionInfo": {
     "elapsed": 66350,
     "status": "ok",
     "timestamp": 1592456309005,
     "user": {
      "displayName": "이명학",
      "photoUrl": "",
      "userId": "11987921594376328543"
     },
     "user_tz": -540
    },
    "id": "ixWFeLQ8t_ut",
    "outputId": "9f700109-1d3a-44b5-fd2e-e4313ba4ee18"
   },
   "outputs": [
    {
     "name": "stdout",
     "output_type": "stream",
     "text": [
      "NDCG at 10, n = 50 :  0.07975278415549616\n",
      "Recall at 10, n = 50 :  0.07008809523809524\n"
     ]
    }
   ],
   "source": [
    "# n=100\n",
    "print(\"NDCG at 10, n = 50 : \",NDCG_binary_at_k_batch(pred_nmf,holdout_nmf,10).mean())\n",
    "\n",
    "# k=50\n",
    "print(\"Recall at 10, n = 50 : \", Recall_at_k_batch(pred_nmf,holdout_nmf,10).mean())"
   ]
  },
  {
   "cell_type": "code",
   "execution_count": null,
   "metadata": {},
   "outputs": [],
   "source": []
  }
 ],
 "metadata": {
  "kernelspec": {
   "display_name": "Python 3",
   "language": "python",
   "name": "python3"
  },
  "language_info": {
   "codemirror_mode": {
    "name": "ipython",
    "version": 3
   },
   "file_extension": ".py",
   "mimetype": "text/x-python",
   "name": "python",
   "nbconvert_exporter": "python",
   "pygments_lexer": "ipython3",
   "version": "3.7.6"
  }
 },
 "nbformat": 4,
 "nbformat_minor": 4
}
