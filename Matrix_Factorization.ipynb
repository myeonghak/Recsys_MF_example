{
 "cells": [
  {
   "cell_type": "code",
   "execution_count": 1,
   "metadata": {
    "colab": {},
    "colab_type": "code",
    "executionInfo": {
     "elapsed": 902,
     "status": "ok",
     "timestamp": 1592977748914,
     "user": {
      "displayName": "이명학",
      "photoUrl": "",
      "userId": "11987921594376328543"
     },
     "user_tz": -540
    },
    "id": "xJtG7oYzc75_"
   },
   "outputs": [],
   "source": [
    "import numpy as np\n",
    "import pandas as pd\n",
    "import os\n",
    "import time\n",
    "\n",
    "import warnings\n",
    "warnings.filterwarnings(action='ignore')\n",
    "\n",
    "from scipy.sparse.linalg import svds\n",
    "from scipy import sparse\n",
    "\n",
    "import sklearn\n",
    "from sklearn.decomposition import NMF\n",
    "from sklearn.metrics.pairwise import cosine_similarity\n",
    "\n",
    "from recsystools import *"
   ]
  },
  {
   "cell_type": "code",
   "execution_count": 2,
   "metadata": {},
   "outputs": [],
   "source": [
    "from IPython.display import display, HTML \n",
    "import matplotlib.pyplot as plt\n",
    "%matplotlib inline\n",
    "from PIL import Image, ImageFile\n",
    "from matplotlib.pyplot import imshow"
   ]
  },
  {
   "cell_type": "code",
   "execution_count": 3,
   "metadata": {},
   "outputs": [
    {
     "name": "stdout",
     "output_type": "stream",
     "text": [
      "numpy version: 1.18.5\n",
      "pandas version: 1.0.5\n",
      "scipy version: 1.5.0\n",
      "sklearn version: 0.23.1\n",
      "bottleneck version: 1.3.2\n"
     ]
    }
   ],
   "source": [
    "print(f\"numpy version: {np.__version__}\")\n",
    "print(f\"pandas version: {pd.__version__}\")\n",
    "print(f\"scipy version: {scipy.__version__}\")\n",
    "print(f\"sklearn version: {sklearn.__version__}\")\n",
    "print(f\"bottleneck version: {bn.__version__}\")"
   ]
  },
  {
   "cell_type": "markdown",
   "metadata": {},
   "source": [
    "### Download data set via this URL:\n",
    "#### https://www.kaggle.com/carrie1/ecommerce-data"
   ]
  },
  {
   "cell_type": "code",
   "execution_count": 29,
   "metadata": {},
   "outputs": [],
   "source": [
    "user_col=\"CustomerID\"\n",
    "prod_col=\"Description\""
   ]
  },
  {
   "cell_type": "markdown",
   "metadata": {},
   "source": [
    "# `Import Data`"
   ]
  },
  {
   "cell_type": "code",
   "execution_count": 30,
   "metadata": {
    "colab": {
     "base_uri": "https://localhost:8080/",
     "height": 52
    },
    "colab_type": "code",
    "executionInfo": {
     "elapsed": 227379,
     "status": "ok",
     "timestamp": 1592902991007,
     "user": {
      "displayName": "이명학",
      "photoUrl": "",
      "userId": "11987921594376328543"
     },
     "user_tz": -540
    },
    "id": "OnS_GZMeMq8k",
    "outputId": "71cb8ac9-3aab-4726-f1ea-856490e8c980"
   },
   "outputs": [],
   "source": [
    "user_purch_list=pd.read_csv(\"ecommerce_data.csv\", encoding = 'ISO-8859-1')"
   ]
  },
  {
   "cell_type": "code",
   "execution_count": 31,
   "metadata": {
    "colab": {
     "base_uri": "https://localhost:8080/",
     "height": 52
    },
    "colab_type": "code",
    "executionInfo": {
     "elapsed": 227379,
     "status": "ok",
     "timestamp": 1592902991007,
     "user": {
      "displayName": "이명학",
      "photoUrl": "",
      "userId": "11987921594376328543"
     },
     "user_tz": -540
    },
    "id": "OnS_GZMeMq8k",
    "outputId": "71cb8ac9-3aab-4726-f1ea-856490e8c980"
   },
   "outputs": [],
   "source": [
    "user_purch_list_list = user_purch_list.loc[user_purch_list['Quantity'] > 0]\n",
    "user_purch_list = user_purch_list.loc[user_purch_list['UnitPrice'] > 0]\n",
    "user_purch_list = user_purch_list.dropna(subset=['CustomerID'])\n",
    "user_purch_list.CustomerID=user_purch_list.CustomerID.astype(int)"
   ]
  },
  {
   "cell_type": "code",
   "execution_count": 32,
   "metadata": {},
   "outputs": [],
   "source": [
    "prepro=recsystools(user_col,prod_col)"
   ]
  },
  {
   "cell_type": "code",
   "execution_count": 33,
   "metadata": {
    "colab": {
     "base_uri": "https://localhost:8080/",
     "height": 52
    },
    "colab_type": "code",
    "executionInfo": {
     "elapsed": 227379,
     "status": "ok",
     "timestamp": 1592902991007,
     "user": {
      "displayName": "이명학",
      "photoUrl": "",
      "userId": "11987921594376328543"
     },
     "user_tz": -540
    },
    "id": "OnS_GZMeMq8k",
    "outputId": "71cb8ac9-3aab-4726-f1ea-856490e8c980"
   },
   "outputs": [
    {
     "name": "stdout",
     "output_type": "stream",
     "text": [
      "After filtering, there are 404966 buying events from 4124 users and 3317 items (sparsity: 97.040%)\n"
     ]
    }
   ],
   "source": [
    "# 필터링을 마친 새로운 raw data와, 유저의 활동 로그, 아이템의 판매 기록을 각각 저장\n",
    "raw_data, user_activity, item_popularity = prepro.filter_triplets(user_purch_list)\n",
    "\n",
    "# 새로운 raw data로 interaction matrix 계산\n",
    "pivot=pd.pivot_table(raw_data, values=raw_data.columns[0],index=[user_col],columns=[prod_col],aggfunc=\"count\",fill_value=0)\n",
    "\n",
    "# sparsity는?\n",
    "sparsity = 1-( 1. * raw_data.shape[0] / (user_activity.shape[0] * item_popularity.shape[0]))\n",
    "\n",
    "print(\"After filtering, there are %d buying events from %d users and %d items (sparsity: %.3f%%)\" % \n",
    "      (raw_data.shape[0], user_activity.shape[0], item_popularity.shape[0], sparsity * 100))"
   ]
  },
  {
   "cell_type": "markdown",
   "metadata": {},
   "source": [
    "# `Data Preprocessing`"
   ]
  },
  {
   "cell_type": "code",
   "execution_count": 34,
   "metadata": {
    "colab": {
     "base_uri": "https://localhost:8080/",
     "height": 52
    },
    "colab_type": "code",
    "executionInfo": {
     "elapsed": 227379,
     "status": "ok",
     "timestamp": 1592902991007,
     "user": {
      "displayName": "이명학",
      "photoUrl": "",
      "userId": "11987921594376328543"
     },
     "user_tz": -540
    },
    "id": "OnS_GZMeMq8k",
    "outputId": "71cb8ac9-3aab-4726-f1ea-856490e8c980"
   },
   "outputs": [],
   "source": [
    "# 유니크한 유저 아이디를 저장\n",
    "unique_uid = user_activity.index\n",
    "\n",
    "# 균일하게 섞어주기 위해 shuffle\n",
    "np.random.seed(34)\n",
    "idx_perm = np.random.permutation(unique_uid.size)\n",
    "unique_uid = unique_uid[idx_perm]"
   ]
  },
  {
   "cell_type": "code",
   "execution_count": 35,
   "metadata": {
    "colab": {
     "base_uri": "https://localhost:8080/",
     "height": 52
    },
    "colab_type": "code",
    "executionInfo": {
     "elapsed": 227379,
     "status": "ok",
     "timestamp": 1592902991007,
     "user": {
      "displayName": "이명학",
      "photoUrl": "",
      "userId": "11987921594376328543"
     },
     "user_tz": -540
    },
    "id": "OnS_GZMeMq8k",
    "outputId": "71cb8ac9-3aab-4726-f1ea-856490e8c980"
   },
   "outputs": [],
   "source": [
    "# 유저의 수를 나누어, train/test를 split함\n",
    "# 500명의 유저를 hold, 추천 모델 성능 test 용으로 사용\n",
    "\n",
    "n_users = unique_uid.size\n",
    "n_heldout_users = 500\n",
    "\n",
    "tr_users = unique_uid[:(n_users - n_heldout_users)]\n",
    "te_users = unique_uid[(n_users - n_heldout_users):]"
   ]
  },
  {
   "cell_type": "code",
   "execution_count": 36,
   "metadata": {},
   "outputs": [
    {
     "data": {
      "text/plain": [
       "(3624,)"
      ]
     },
     "execution_count": 36,
     "metadata": {},
     "output_type": "execute_result"
    }
   ],
   "source": [
    "tr_users.shape"
   ]
  },
  {
   "cell_type": "code",
   "execution_count": 37,
   "metadata": {},
   "outputs": [
    {
     "data": {
      "text/plain": [
       "(500,)"
      ]
     },
     "execution_count": 37,
     "metadata": {},
     "output_type": "execute_result"
    }
   ],
   "source": [
    "te_users.shape"
   ]
  },
  {
   "cell_type": "code",
   "execution_count": 38,
   "metadata": {
    "colab": {
     "base_uri": "https://localhost:8080/",
     "height": 52
    },
    "colab_type": "code",
    "executionInfo": {
     "elapsed": 227379,
     "status": "ok",
     "timestamp": 1592902991007,
     "user": {
      "displayName": "이명학",
      "photoUrl": "",
      "userId": "11987921594376328543"
     },
     "user_tz": -540
    },
    "id": "OnS_GZMeMq8k",
    "outputId": "71cb8ac9-3aab-4726-f1ea-856490e8c980"
   },
   "outputs": [],
   "source": [
    "tr_df=raw_data[raw_data[user_col].isin(tr_users)]\n",
    "te_df=raw_data[raw_data[user_col].isin(te_users)]"
   ]
  },
  {
   "cell_type": "code",
   "execution_count": 39,
   "metadata": {
    "colab": {
     "base_uri": "https://localhost:8080/",
     "height": 52
    },
    "colab_type": "code",
    "executionInfo": {
     "elapsed": 227379,
     "status": "ok",
     "timestamp": 1592902991007,
     "user": {
      "displayName": "이명학",
      "photoUrl": "",
      "userId": "11987921594376328543"
     },
     "user_tz": -540
    },
    "id": "OnS_GZMeMq8k",
    "outputId": "71cb8ac9-3aab-4726-f1ea-856490e8c980"
   },
   "outputs": [
    {
     "name": "stdout",
     "output_type": "stream",
     "text": [
      "0 users sampled\n"
     ]
    }
   ],
   "source": [
    "te_tr,te_te=prepro.split_train_test_proportion(te_df)\n",
    "holdout_user_list=te_te[user_col].unique()"
   ]
  },
  {
   "cell_type": "code",
   "execution_count": 40,
   "metadata": {
    "colab": {
     "base_uri": "https://localhost:8080/",
     "height": 52
    },
    "colab_type": "code",
    "executionInfo": {
     "elapsed": 227379,
     "status": "ok",
     "timestamp": 1592902991007,
     "user": {
      "displayName": "이명학",
      "photoUrl": "",
      "userId": "11987921594376328543"
     },
     "user_tz": -540
    },
    "id": "OnS_GZMeMq8k",
    "outputId": "71cb8ac9-3aab-4726-f1ea-856490e8c980"
   },
   "outputs": [],
   "source": [
    "# 전체 train 데이터\n",
    "train_data=pd.concat([tr_df,te_tr])\n",
    "\n",
    "train_pivot=pd.pivot_table(train_data, values=train_data.columns[0],index=[user_col],columns=[prod_col],aggfunc=\"count\",fill_value=0)"
   ]
  },
  {
   "cell_type": "code",
   "execution_count": 41,
   "metadata": {
    "colab": {},
    "colab_type": "code",
    "executionInfo": {
     "elapsed": 227251,
     "status": "ok",
     "timestamp": 1592902991008,
     "user": {
      "displayName": "이명학",
      "photoUrl": "",
      "userId": "11987921594376328543"
     },
     "user_tz": -540
    },
    "id": "iRQIIVUbM7Yq"
   },
   "outputs": [],
   "source": [
    "matrix=train_pivot.values\n",
    "\n",
    "#demean mean\n",
    "\n",
    "user_ratings_mean=np.mean(matrix,axis=1)\n",
    "ui_matrix=matrix-user_ratings_mean.reshape(-1,1)"
   ]
  },
  {
   "cell_type": "markdown",
   "metadata": {},
   "source": [
    "# `SVD`"
   ]
  },
  {
   "cell_type": "code",
   "execution_count": 42,
   "metadata": {},
   "outputs": [
    {
     "data": {
      "text/plain": [
       "(4124, 3317)"
      ]
     },
     "execution_count": 42,
     "metadata": {},
     "output_type": "execute_result"
    }
   ],
   "source": [
    "ui_matrix.shape"
   ]
  },
  {
   "cell_type": "code",
   "execution_count": 50,
   "metadata": {
    "colab": {
     "base_uri": "https://localhost:8080/",
     "height": 175
    },
    "colab_type": "code",
    "executionInfo": {
     "elapsed": 9052,
     "status": "ok",
     "timestamp": 1592903125241,
     "user": {
      "displayName": "이명학",
      "photoUrl": "",
      "userId": "11987921594376328543"
     },
     "user_tz": -540
    },
    "id": "meRthIUhbCW4",
    "outputId": "5beba14c-b63f-4ce2-9372-c282285cce0c"
   },
   "outputs": [
    {
     "name": "stdout",
     "output_type": "stream",
     "text": [
      "training time: 1.1718635559082031s\n"
     ]
    }
   ],
   "source": [
    "start=time.time()\n",
    "\n",
    "U, sig , Vt =svds(ui_matrix,k=50)\n",
    "\n",
    "print(f\"training time: {time.time()-start}s\")\n",
    "\n",
    "sig=np.diag(sig)\n",
    "\n",
    "svd_user_predicted_ratings=np.dot(np.dot(U,sig),Vt) + user_ratings_mean.reshape(-1,1)"
   ]
  },
  {
   "cell_type": "code",
   "execution_count": 51,
   "metadata": {
    "colab": {
     "base_uri": "https://localhost:8080/",
     "height": 175
    },
    "colab_type": "code",
    "executionInfo": {
     "elapsed": 9052,
     "status": "ok",
     "timestamp": 1592903125241,
     "user": {
      "displayName": "이명학",
      "photoUrl": "",
      "userId": "11987921594376328543"
     },
     "user_tz": -540
    },
    "id": "meRthIUhbCW4",
    "outputId": "5beba14c-b63f-4ce2-9372-c282285cce0c"
   },
   "outputs": [],
   "source": [
    "df_svd_preds=pd.DataFrame(svd_user_predicted_ratings, columns=train_pivot.columns).T\n",
    "df_svd_preds.columns=train_pivot.index"
   ]
  },
  {
   "cell_type": "code",
   "execution_count": 52,
   "metadata": {
    "colab": {
     "base_uri": "https://localhost:8080/",
     "height": 175
    },
    "colab_type": "code",
    "executionInfo": {
     "elapsed": 9052,
     "status": "ok",
     "timestamp": 1592903125241,
     "user": {
      "displayName": "이명학",
      "photoUrl": "",
      "userId": "11987921594376328543"
     },
     "user_tz": -540
    },
    "id": "meRthIUhbCW4",
    "outputId": "5beba14c-b63f-4ce2-9372-c282285cce0c"
   },
   "outputs": [],
   "source": [
    "df_svd_preds_exclude_purchase=df_svd_preds-(1e+10*(train_pivot.T))"
   ]
  },
  {
   "cell_type": "code",
   "execution_count": null,
   "metadata": {},
   "outputs": [],
   "source": []
  },
  {
   "cell_type": "code",
   "execution_count": 53,
   "metadata": {
    "colab": {
     "base_uri": "https://localhost:8080/",
     "height": 175
    },
    "colab_type": "code",
    "executionInfo": {
     "elapsed": 9052,
     "status": "ok",
     "timestamp": 1592903125241,
     "user": {
      "displayName": "이명학",
      "photoUrl": "",
      "userId": "11987921594376328543"
     },
     "user_tz": -540
    },
    "id": "meRthIUhbCW4",
    "outputId": "5beba14c-b63f-4ce2-9372-c282285cce0c"
   },
   "outputs": [],
   "source": [
    "pred_svd=np.array(df_svd_preds_exclude_purchase.T[df_svd_preds_exclude_purchase.columns.isin(holdout_user_list)])"
   ]
  },
  {
   "cell_type": "code",
   "execution_count": 54,
   "metadata": {
    "colab": {
     "base_uri": "https://localhost:8080/",
     "height": 175
    },
    "colab_type": "code",
    "executionInfo": {
     "elapsed": 9052,
     "status": "ok",
     "timestamp": 1592903125241,
     "user": {
      "displayName": "이명학",
      "photoUrl": "",
      "userId": "11987921594376328543"
     },
     "user_tz": -540
    },
    "id": "meRthIUhbCW4",
    "outputId": "5beba14c-b63f-4ce2-9372-c282285cce0c"
   },
   "outputs": [],
   "source": [
    "holdout_svd=scipy.sparse.csr_matrix(pivot[pivot.T.columns.isin(holdout_user_list)].values)"
   ]
  },
  {
   "cell_type": "code",
   "execution_count": 55,
   "metadata": {},
   "outputs": [
    {
     "data": {
      "text/plain": [
       "(500, 3317)"
      ]
     },
     "execution_count": 55,
     "metadata": {},
     "output_type": "execute_result"
    }
   ],
   "source": [
    "holdout_svd.todense().shape"
   ]
  },
  {
   "cell_type": "code",
   "execution_count": 56,
   "metadata": {
    "colab": {
     "base_uri": "https://localhost:8080/",
     "height": 175
    },
    "colab_type": "code",
    "executionInfo": {
     "elapsed": 9052,
     "status": "ok",
     "timestamp": 1592903125241,
     "user": {
      "displayName": "이명학",
      "photoUrl": "",
      "userId": "11987921594376328543"
     },
     "user_tz": -540
    },
    "id": "meRthIUhbCW4",
    "outputId": "5beba14c-b63f-4ce2-9372-c282285cce0c"
   },
   "outputs": [
    {
     "name": "stdout",
     "output_type": "stream",
     "text": [
      "NDCG at 10, k = 200:  0.0871815897162283\n",
      "Recall at 10, k = 200 : 0.07435476190476191\n"
     ]
    }
   ],
   "source": [
    "# k=200\n",
    "print(f\"NDCG at 10, k = 200: \" , NDCG_binary_at_k_batch(pred_svd,holdout_svd,10).mean())\n",
    "print(f\"Recall at 10, k = 200 :\",Recall_at_k_batch(pred_svd,holdout_svd,10).mean())"
   ]
  },
  {
   "cell_type": "markdown",
   "metadata": {},
   "source": [
    "# `NMF`"
   ]
  },
  {
   "cell_type": "code",
   "execution_count": 58,
   "metadata": {
    "colab": {},
    "colab_type": "code",
    "id": "enyMMy5Vt_um"
   },
   "outputs": [
    {
     "name": "stdout",
     "output_type": "stream",
     "text": [
      "training time: 8.388556241989136s\n"
     ]
    }
   ],
   "source": [
    "start=time.time()\n",
    "\n",
    "model = NMF(n_components=50, init='random', random_state=0)\n",
    "W = model.fit_transform(matrix)\n",
    "H = model.components_\n",
    "\n",
    "print(f\"training time: {time.time()-start}s\")"
   ]
  },
  {
   "cell_type": "code",
   "execution_count": 59,
   "metadata": {
    "colab": {},
    "colab_type": "code",
    "id": "DE9XN94Ct_un"
   },
   "outputs": [],
   "source": [
    "reconstructed = pd.DataFrame(np.round(np.dot(W,H),2), columns=train_pivot.columns,index=train_pivot.index)"
   ]
  },
  {
   "cell_type": "code",
   "execution_count": 60,
   "metadata": {
    "colab": {},
    "colab_type": "code",
    "id": "6w0f8IcQt_uq"
   },
   "outputs": [],
   "source": [
    "df_nmf_preds_exclude_purchase=reconstructed.T-(1e+10*train_pivot.T)"
   ]
  },
  {
   "cell_type": "code",
   "execution_count": 61,
   "metadata": {
    "colab": {},
    "colab_type": "code",
    "id": "7rg7cnvQt_ur"
   },
   "outputs": [],
   "source": [
    "pred_nmf=np.array(df_nmf_preds_exclude_purchase.T[df_nmf_preds_exclude_purchase.columns.isin(holdout_user_list)])"
   ]
  },
  {
   "cell_type": "code",
   "execution_count": 62,
   "metadata": {
    "colab": {},
    "colab_type": "code",
    "id": "o9mHh15Qt_us"
   },
   "outputs": [],
   "source": [
    "holdout_nmf=scipy.sparse.csr_matrix(pivot[pivot.T.columns.isin(holdout_user_list)].values)"
   ]
  },
  {
   "cell_type": "code",
   "execution_count": null,
   "metadata": {},
   "outputs": [],
   "source": []
  },
  {
   "cell_type": "code",
   "execution_count": 63,
   "metadata": {
    "colab": {
     "base_uri": "https://localhost:8080/"
    },
    "colab_type": "code",
    "executionInfo": {
     "elapsed": 66350,
     "status": "ok",
     "timestamp": 1592456309005,
     "user": {
      "displayName": "이명학",
      "photoUrl": "",
      "userId": "11987921594376328543"
     },
     "user_tz": -540
    },
    "id": "ixWFeLQ8t_ut",
    "outputId": "9f700109-1d3a-44b5-fd2e-e4313ba4ee18"
   },
   "outputs": [
    {
     "name": "stdout",
     "output_type": "stream",
     "text": [
      "NDCG at 10, n = 50 :  0.08125304090527904\n",
      "Recall at 10, n = 50 :  0.0679547619047619\n"
     ]
    }
   ],
   "source": [
    "# n=100\n",
    "print(\"NDCG at 10, n = 50 : \",NDCG_binary_at_k_batch(pred_nmf,holdout_nmf,10).mean())\n",
    "\n",
    "# k=50\n",
    "print(\"Recall at 10, n = 50 : \", Recall_at_k_batch(pred_nmf,holdout_nmf,10).mean())"
   ]
  },
  {
   "cell_type": "markdown",
   "metadata": {},
   "source": [
    "# Prediction"
   ]
  },
  {
   "cell_type": "code",
   "execution_count": 68,
   "metadata": {},
   "outputs": [],
   "source": [
    "def get_top_items(user_idx,k=10):\n",
    "    user_id=unique_uid[tr_users.shape[0]+user_idx]\n",
    "\n",
    "    pred_user=pred_svd[user_idx]\n",
    "    top_10=pred_user.argsort()[:k]\n",
    "\n",
    "    rec=user_purch_list[user_purch_list[prod_col].isin(pivot.iloc[:,top_10].columns)].drop_duplicates(prod_col)\n",
    "\n",
    "    bought=user_purch_list[user_purch_list[user_col]==user_id].drop_duplicates(prod_col)\n",
    "    \n",
    "    return rec, bought"
   ]
  },
  {
   "cell_type": "code",
   "execution_count": 69,
   "metadata": {},
   "outputs": [],
   "source": [
    "rec,bought=get_top_items(10,10)"
   ]
  },
  {
   "cell_type": "code",
   "execution_count": 70,
   "metadata": {},
   "outputs": [
    {
     "data": {
      "text/html": [
       "<div>\n",
       "<style scoped>\n",
       "    .dataframe tbody tr th:only-of-type {\n",
       "        vertical-align: middle;\n",
       "    }\n",
       "\n",
       "    .dataframe tbody tr th {\n",
       "        vertical-align: top;\n",
       "    }\n",
       "\n",
       "    .dataframe thead th {\n",
       "        text-align: right;\n",
       "    }\n",
       "</style>\n",
       "<table border=\"1\" class=\"dataframe\">\n",
       "  <thead>\n",
       "    <tr style=\"text-align: right;\">\n",
       "      <th></th>\n",
       "      <th>InvoiceNo</th>\n",
       "      <th>StockCode</th>\n",
       "      <th>Description</th>\n",
       "      <th>Quantity</th>\n",
       "      <th>InvoiceDate</th>\n",
       "      <th>UnitPrice</th>\n",
       "      <th>CustomerID</th>\n",
       "      <th>Country</th>\n",
       "    </tr>\n",
       "  </thead>\n",
       "  <tbody>\n",
       "    <tr>\n",
       "      <th>159</th>\n",
       "      <td>536384</td>\n",
       "      <td>22457</td>\n",
       "      <td>NATURAL SLATE HEART CHALKBOARD</td>\n",
       "      <td>12</td>\n",
       "      <td>12/1/2010 9:53</td>\n",
       "      <td>2.95</td>\n",
       "      <td>18074</td>\n",
       "      <td>United Kingdom</td>\n",
       "    </tr>\n",
       "    <tr>\n",
       "      <th>191</th>\n",
       "      <td>536388</td>\n",
       "      <td>22922</td>\n",
       "      <td>FRIDGE MAGNETS US DINER ASSORTED</td>\n",
       "      <td>12</td>\n",
       "      <td>12/1/2010 9:59</td>\n",
       "      <td>0.85</td>\n",
       "      <td>16250</td>\n",
       "      <td>United Kingdom</td>\n",
       "    </tr>\n",
       "    <tr>\n",
       "      <th>639</th>\n",
       "      <td>536415</td>\n",
       "      <td>21790</td>\n",
       "      <td>VINTAGE SNAP CARDS</td>\n",
       "      <td>3</td>\n",
       "      <td>12/1/2010 11:57</td>\n",
       "      <td>0.85</td>\n",
       "      <td>12838</td>\n",
       "      <td>United Kingdom</td>\n",
       "    </tr>\n",
       "    <tr>\n",
       "      <th>880</th>\n",
       "      <td>536477</td>\n",
       "      <td>22423</td>\n",
       "      <td>REGENCY CAKESTAND 3 TIER</td>\n",
       "      <td>16</td>\n",
       "      <td>12/1/2010 12:27</td>\n",
       "      <td>10.95</td>\n",
       "      <td>16210</td>\n",
       "      <td>United Kingdom</td>\n",
       "    </tr>\n",
       "    <tr>\n",
       "      <th>1296</th>\n",
       "      <td>536532</td>\n",
       "      <td>22666</td>\n",
       "      <td>RECIPE BOX PANTRY YELLOW DESIGN</td>\n",
       "      <td>12</td>\n",
       "      <td>12/1/2010 13:24</td>\n",
       "      <td>2.95</td>\n",
       "      <td>12433</td>\n",
       "      <td>Norway</td>\n",
       "    </tr>\n",
       "    <tr>\n",
       "      <th>3520</th>\n",
       "      <td>536635</td>\n",
       "      <td>21868</td>\n",
       "      <td>POTTING SHED TEA MUG</td>\n",
       "      <td>12</td>\n",
       "      <td>12/2/2010 11:22</td>\n",
       "      <td>1.25</td>\n",
       "      <td>15955</td>\n",
       "      <td>United Kingdom</td>\n",
       "    </tr>\n",
       "    <tr>\n",
       "      <th>17260</th>\n",
       "      <td>537692</td>\n",
       "      <td>22937</td>\n",
       "      <td>BAKING MOULD CHOCOLATE CUPCAKES</td>\n",
       "      <td>2</td>\n",
       "      <td>12/8/2010 10:40</td>\n",
       "      <td>2.55</td>\n",
       "      <td>14796</td>\n",
       "      <td>United Kingdom</td>\n",
       "    </tr>\n",
       "    <tr>\n",
       "      <th>133227</th>\n",
       "      <td>547730</td>\n",
       "      <td>23159</td>\n",
       "      <td>SET OF 5 PANCAKE DAY MAGNETS</td>\n",
       "      <td>1</td>\n",
       "      <td>3/25/2011 11:01</td>\n",
       "      <td>2.08</td>\n",
       "      <td>14796</td>\n",
       "      <td>United Kingdom</td>\n",
       "    </tr>\n",
       "    <tr>\n",
       "      <th>133229</th>\n",
       "      <td>547730</td>\n",
       "      <td>23156</td>\n",
       "      <td>SET OF 5 MINI GROCERY MAGNETS</td>\n",
       "      <td>1</td>\n",
       "      <td>3/25/2011 11:01</td>\n",
       "      <td>2.08</td>\n",
       "      <td>14796</td>\n",
       "      <td>United Kingdom</td>\n",
       "    </tr>\n",
       "    <tr>\n",
       "      <th>179020</th>\n",
       "      <td>552257</td>\n",
       "      <td>23209</td>\n",
       "      <td>LUNCH BAG DOILEY PATTERN</td>\n",
       "      <td>10</td>\n",
       "      <td>5/8/2011 11:08</td>\n",
       "      <td>1.65</td>\n",
       "      <td>16923</td>\n",
       "      <td>United Kingdom</td>\n",
       "    </tr>\n",
       "  </tbody>\n",
       "</table>\n",
       "</div>"
      ],
      "text/plain": [
       "       InvoiceNo StockCode                       Description  Quantity  \\\n",
       "159       536384     22457   NATURAL SLATE HEART CHALKBOARD         12   \n",
       "191       536388     22922  FRIDGE MAGNETS US DINER ASSORTED        12   \n",
       "639       536415     21790                VINTAGE SNAP CARDS         3   \n",
       "880       536477     22423          REGENCY CAKESTAND 3 TIER        16   \n",
       "1296      536532     22666   RECIPE BOX PANTRY YELLOW DESIGN        12   \n",
       "3520      536635     21868              POTTING SHED TEA MUG        12   \n",
       "17260     537692     22937   BAKING MOULD CHOCOLATE CUPCAKES         2   \n",
       "133227    547730     23159      SET OF 5 PANCAKE DAY MAGNETS         1   \n",
       "133229    547730     23156     SET OF 5 MINI GROCERY MAGNETS         1   \n",
       "179020    552257     23209         LUNCH BAG DOILEY PATTERN         10   \n",
       "\n",
       "            InvoiceDate  UnitPrice  CustomerID         Country  \n",
       "159      12/1/2010 9:53       2.95       18074  United Kingdom  \n",
       "191      12/1/2010 9:59       0.85       16250  United Kingdom  \n",
       "639     12/1/2010 11:57       0.85       12838  United Kingdom  \n",
       "880     12/1/2010 12:27      10.95       16210  United Kingdom  \n",
       "1296    12/1/2010 13:24       2.95       12433          Norway  \n",
       "3520    12/2/2010 11:22       1.25       15955  United Kingdom  \n",
       "17260   12/8/2010 10:40       2.55       14796  United Kingdom  \n",
       "133227  3/25/2011 11:01       2.08       14796  United Kingdom  \n",
       "133229  3/25/2011 11:01       2.08       14796  United Kingdom  \n",
       "179020   5/8/2011 11:08       1.65       16923  United Kingdom  "
      ]
     },
     "execution_count": 70,
     "metadata": {},
     "output_type": "execute_result"
    }
   ],
   "source": [
    "rec"
   ]
  },
  {
   "cell_type": "code",
   "execution_count": 71,
   "metadata": {},
   "outputs": [
    {
     "data": {
      "text/html": [
       "<div>\n",
       "<style scoped>\n",
       "    .dataframe tbody tr th:only-of-type {\n",
       "        vertical-align: middle;\n",
       "    }\n",
       "\n",
       "    .dataframe tbody tr th {\n",
       "        vertical-align: top;\n",
       "    }\n",
       "\n",
       "    .dataframe thead th {\n",
       "        text-align: right;\n",
       "    }\n",
       "</style>\n",
       "<table border=\"1\" class=\"dataframe\">\n",
       "  <thead>\n",
       "    <tr style=\"text-align: right;\">\n",
       "      <th></th>\n",
       "      <th>InvoiceNo</th>\n",
       "      <th>StockCode</th>\n",
       "      <th>Description</th>\n",
       "      <th>Quantity</th>\n",
       "      <th>InvoiceDate</th>\n",
       "      <th>UnitPrice</th>\n",
       "      <th>CustomerID</th>\n",
       "      <th>Country</th>\n",
       "    </tr>\n",
       "  </thead>\n",
       "  <tbody>\n",
       "    <tr>\n",
       "      <th>43370</th>\n",
       "      <td>540033</td>\n",
       "      <td>47591D</td>\n",
       "      <td>PINK FAIRY CAKE CHILDRENS APRON</td>\n",
       "      <td>25</td>\n",
       "      <td>1/4/2011 14:12</td>\n",
       "      <td>1.65</td>\n",
       "      <td>13680</td>\n",
       "      <td>United Kingdom</td>\n",
       "    </tr>\n",
       "    <tr>\n",
       "      <th>43371</th>\n",
       "      <td>540033</td>\n",
       "      <td>22365</td>\n",
       "      <td>DOORMAT RESPECTABLE HOUSE</td>\n",
       "      <td>1</td>\n",
       "      <td>1/4/2011 14:12</td>\n",
       "      <td>7.95</td>\n",
       "      <td>13680</td>\n",
       "      <td>United Kingdom</td>\n",
       "    </tr>\n",
       "    <tr>\n",
       "      <th>43372</th>\n",
       "      <td>540033</td>\n",
       "      <td>48138</td>\n",
       "      <td>DOORMAT UNION FLAG</td>\n",
       "      <td>1</td>\n",
       "      <td>1/4/2011 14:12</td>\n",
       "      <td>7.95</td>\n",
       "      <td>13680</td>\n",
       "      <td>United Kingdom</td>\n",
       "    </tr>\n",
       "    <tr>\n",
       "      <th>43373</th>\n",
       "      <td>540033</td>\n",
       "      <td>22366</td>\n",
       "      <td>DOORMAT AIRMAIL</td>\n",
       "      <td>1</td>\n",
       "      <td>1/4/2011 14:12</td>\n",
       "      <td>7.95</td>\n",
       "      <td>13680</td>\n",
       "      <td>United Kingdom</td>\n",
       "    </tr>\n",
       "    <tr>\n",
       "      <th>43374</th>\n",
       "      <td>540033</td>\n",
       "      <td>22692</td>\n",
       "      <td>DOORMAT WELCOME TO OUR HOME</td>\n",
       "      <td>1</td>\n",
       "      <td>1/4/2011 14:12</td>\n",
       "      <td>7.95</td>\n",
       "      <td>13680</td>\n",
       "      <td>United Kingdom</td>\n",
       "    </tr>\n",
       "    <tr>\n",
       "      <th>...</th>\n",
       "      <td>...</td>\n",
       "      <td>...</td>\n",
       "      <td>...</td>\n",
       "      <td>...</td>\n",
       "      <td>...</td>\n",
       "      <td>...</td>\n",
       "      <td>...</td>\n",
       "      <td>...</td>\n",
       "    </tr>\n",
       "    <tr>\n",
       "      <th>538316</th>\n",
       "      <td>581404</td>\n",
       "      <td>23543</td>\n",
       "      <td>WALL ART KEEP CALM</td>\n",
       "      <td>2</td>\n",
       "      <td>12/8/2011 13:47</td>\n",
       "      <td>4.15</td>\n",
       "      <td>13680</td>\n",
       "      <td>United Kingdom</td>\n",
       "    </tr>\n",
       "    <tr>\n",
       "      <th>538317</th>\n",
       "      <td>581404</td>\n",
       "      <td>22632</td>\n",
       "      <td>HAND WARMER RED RETROSPOT</td>\n",
       "      <td>13</td>\n",
       "      <td>12/8/2011 13:47</td>\n",
       "      <td>2.10</td>\n",
       "      <td>13680</td>\n",
       "      <td>United Kingdom</td>\n",
       "    </tr>\n",
       "    <tr>\n",
       "      <th>538318</th>\n",
       "      <td>581404</td>\n",
       "      <td>22633</td>\n",
       "      <td>HAND WARMER UNION JACK</td>\n",
       "      <td>6</td>\n",
       "      <td>12/8/2011 13:47</td>\n",
       "      <td>2.10</td>\n",
       "      <td>13680</td>\n",
       "      <td>United Kingdom</td>\n",
       "    </tr>\n",
       "    <tr>\n",
       "      <th>538319</th>\n",
       "      <td>581404</td>\n",
       "      <td>22866</td>\n",
       "      <td>HAND WARMER SCOTTY DOG DESIGN</td>\n",
       "      <td>9</td>\n",
       "      <td>12/8/2011 13:47</td>\n",
       "      <td>2.10</td>\n",
       "      <td>13680</td>\n",
       "      <td>United Kingdom</td>\n",
       "    </tr>\n",
       "    <tr>\n",
       "      <th>538320</th>\n",
       "      <td>581404</td>\n",
       "      <td>23320</td>\n",
       "      <td>GIANT 50'S CHRISTMAS CRACKER</td>\n",
       "      <td>3</td>\n",
       "      <td>12/8/2011 13:47</td>\n",
       "      <td>1.25</td>\n",
       "      <td>13680</td>\n",
       "      <td>United Kingdom</td>\n",
       "    </tr>\n",
       "  </tbody>\n",
       "</table>\n",
       "<p>167 rows × 8 columns</p>\n",
       "</div>"
      ],
      "text/plain": [
       "       InvoiceNo StockCode                      Description  Quantity  \\\n",
       "43370     540033    47591D  PINK FAIRY CAKE CHILDRENS APRON        25   \n",
       "43371     540033     22365        DOORMAT RESPECTABLE HOUSE         1   \n",
       "43372     540033     48138               DOORMAT UNION FLAG         1   \n",
       "43373     540033     22366                 DOORMAT AIRMAIL          1   \n",
       "43374     540033     22692      DOORMAT WELCOME TO OUR HOME         1   \n",
       "...          ...       ...                              ...       ...   \n",
       "538316    581404     23543              WALL ART KEEP CALM          2   \n",
       "538317    581404     22632        HAND WARMER RED RETROSPOT        13   \n",
       "538318    581404     22633           HAND WARMER UNION JACK         6   \n",
       "538319    581404     22866    HAND WARMER SCOTTY DOG DESIGN         9   \n",
       "538320    581404     23320     GIANT 50'S CHRISTMAS CRACKER         3   \n",
       "\n",
       "            InvoiceDate  UnitPrice  CustomerID         Country  \n",
       "43370    1/4/2011 14:12       1.65       13680  United Kingdom  \n",
       "43371    1/4/2011 14:12       7.95       13680  United Kingdom  \n",
       "43372    1/4/2011 14:12       7.95       13680  United Kingdom  \n",
       "43373    1/4/2011 14:12       7.95       13680  United Kingdom  \n",
       "43374    1/4/2011 14:12       7.95       13680  United Kingdom  \n",
       "...                 ...        ...         ...             ...  \n",
       "538316  12/8/2011 13:47       4.15       13680  United Kingdom  \n",
       "538317  12/8/2011 13:47       2.10       13680  United Kingdom  \n",
       "538318  12/8/2011 13:47       2.10       13680  United Kingdom  \n",
       "538319  12/8/2011 13:47       2.10       13680  United Kingdom  \n",
       "538320  12/8/2011 13:47       1.25       13680  United Kingdom  \n",
       "\n",
       "[167 rows x 8 columns]"
      ]
     },
     "execution_count": 71,
     "metadata": {},
     "output_type": "execute_result"
    }
   ],
   "source": [
    "bought"
   ]
  },
  {
   "cell_type": "code",
   "execution_count": null,
   "metadata": {},
   "outputs": [],
   "source": []
  },
  {
   "cell_type": "code",
   "execution_count": null,
   "metadata": {},
   "outputs": [],
   "source": []
  }
 ],
 "metadata": {
  "kernelspec": {
   "display_name": "Python 3",
   "language": "python",
   "name": "python3"
  },
  "language_info": {
   "codemirror_mode": {
    "name": "ipython",
    "version": 3
   },
   "file_extension": ".py",
   "mimetype": "text/x-python",
   "name": "python",
   "nbconvert_exporter": "python",
   "pygments_lexer": "ipython3",
   "version": "3.8.3"
  }
 },
 "nbformat": 4,
 "nbformat_minor": 4
}
